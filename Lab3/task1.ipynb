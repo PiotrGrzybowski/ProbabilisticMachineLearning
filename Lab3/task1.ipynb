{
 "cells": [
  {
   "cell_type": "code",
   "execution_count": null,
   "metadata": {},
   "outputs": [],
   "source": []
  },
  {
   "cell_type": "code",
   "execution_count": null,
   "metadata": {},
   "outputs": [],
   "source": []
  },
  {
   "cell_type": "code",
   "execution_count": null,
   "metadata": {},
   "outputs": [],
   "source": []
  },
  {
   "cell_type": "code",
   "execution_count": null,
   "metadata": {},
   "outputs": [],
   "source": []
  },
  {
   "cell_type": "code",
   "execution_count": null,
   "metadata": {},
   "outputs": [],
   "source": []
  },
  {
   "cell_type": "code",
   "execution_count": null,
   "metadata": {},
   "outputs": [],
   "source": [
    "import numpy as np\n",
    "import random\n",
    "import matplotlib.pyplot as plt\n",
    "import scipy.special as sps\n",
    "\n",
    "shape, scale = 2., 2.  # mean=4, std=2*sqrt(2)\n",
    "s = np.random.gamma(shape, scale, 100000)\n",
    "plt.hist(s, 20)\n",
    "plt.show()\n",
    "\n",
    "# The distribution of the means from the sampled groups is normally distributed\n",
    "samples = [np.mean(random.choices(s, k=100)) for _ in range(100)]\n",
    "sns.distplot(samples)\n",
    "plt.show()"
   ]
  },
  {
   "cell_type": "code",
   "execution_count": null,
   "metadata": {},
   "outputs": [],
   "source": [
    "import numpy as np\n",
    "import matplotlib.pyplot as plt\n",
    "import matplotlib.animation as animation\n",
    "\n",
    "def update_hist(num, data):\n",
    "    plt.cla()\n",
    "    num += 2\n",
    "    samples = [np.mean(random.choices(s, k=100)) for _ in range(num)]\n",
    "    sns.distplot(samples)"
   ]
  },
  {
   "cell_type": "code",
   "execution_count": null,
   "metadata": {},
   "outputs": [],
   "source": [
    "number_of_frames = 100\n",
    "data = np.random.exponential(size=100000)\n",
    "sns.distplot(data)\n",
    "plt.show()\n",
    "\n",
    "fig = plt.figure()\n",
    "animation = animation.FuncAnimation(fig, update_hist, number_of_frames, fargs=(data, ) )\n",
    "HTML(animation.to_jshtml())"
   ]
  },
  {
   "cell_type": "code",
   "execution_count": null,
   "metadata": {},
   "outputs": [],
   "source": [
    "number_of_frames = 100\n",
    "data = np.random.binomial(10, 0.3, 10000)\n",
    "\n",
    "fig = plt.figure()\n",
    "animation = animation.FuncAnimation(fig, update_hist, number_of_frames, fargs=(data, ) )\n",
    "HTML(animation.to_jshtml())"
   ]
  },
  {
   "cell_type": "code",
   "execution_count": null,
   "metadata": {},
   "outputs": [],
   "source": [
    "number_of_frames = 100\n",
    "data = np.random.multinomial(5, [0.1,0.2,0.3,0.4,0.5], 100000)\n",
    "fig = plt.figure()\n",
    "animation = animation.FuncAnimation(fig, update_hist, number_of_frames, fargs=(data, ) )\n",
    "HTML(animation.to_jshtml())"
   ]
  },
  {
   "cell_type": "code",
   "execution_count": null,
   "metadata": {},
   "outputs": [],
   "source": []
  }
 ],
 "metadata": {
  "kernelspec": {
   "display_name": "data-science",
   "language": "python",
   "name": "data-science"
  },
  "language_info": {
   "codemirror_mode": {
    "name": "ipython",
    "version": 3
   },
   "file_extension": ".py",
   "mimetype": "text/x-python",
   "name": "python",
   "nbconvert_exporter": "python",
   "pygments_lexer": "ipython3",
   "version": "3.6.2"
  }
 },
 "nbformat": 4,
 "nbformat_minor": 2
}
